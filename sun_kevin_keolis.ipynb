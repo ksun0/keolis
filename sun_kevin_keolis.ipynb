{
 "cells": [
  {
   "cell_type": "markdown",
   "metadata": {
    "toc": true
   },
   "source": [
    "<h1>Table of Contents<span class=\"tocSkip\"></span></h1>\n",
    "<div class=\"toc\"><ul class=\"toc-item\"><li><span><a href=\"#Keolis-Digital-Solutions\" data-toc-modified-id=\"Keolis-Digital-Solutions-1\">Keolis Digital Solutions</a></span><ul class=\"toc-item\"><li><span><a href=\"#Service-Delivery-Technology---Case-Exercises\" data-toc-modified-id=\"Service-Delivery-Technology---Case-Exercises-1.1\">Service Delivery Technology - Case Exercises</a></span><ul class=\"toc-item\"><li><span><a href=\"#Kevin-Sun\" data-toc-modified-id=\"Kevin-Sun-1.1.1\">Kevin Sun</a></span></li></ul></li><li><span><a href=\"#Imports\" data-toc-modified-id=\"Imports-1.2\">Imports</a></span></li></ul></li><li><span><a href=\"#Challenge-1:-Trackwork-Schedules\" data-toc-modified-id=\"Challenge-1:-Trackwork-Schedules-2\">Challenge 1: Trackwork Schedules</a></span><ul class=\"toc-item\"><li><span><a href=\"#Task:-Rule-that-defines-all-of-the-days-in-which-Train-608-will/won’t-be-operating\" data-toc-modified-id=\"Task:-Rule-that-defines-all-of-the-days-in-which-Train-608-will/won’t-be-operating-2.1\">Task: Rule that defines all of the days in which Train 608 will/won’t be operating</a></span><ul class=\"toc-item\"><li><span><a href=\"#Answer:-weekdays-from-mid-August-to-December-except-Labor-and-Thanksgiving-Day-(10-words)\" data-toc-modified-id=\"Answer:-weekdays-from-mid-August-to-December-except-Labor-and-Thanksgiving-Day-(10-words)-2.1.1\">Answer: weekdays from mid-August to December except Labor and Thanksgiving Day (10 words)</a></span></li><li><span><a href=\"#Methodology:\" data-toc-modified-id=\"Methodology:-2.1.2\">Methodology:</a></span></li></ul></li></ul></li><li><span><a href=\"#Challenge-2:-Equipment-Cycle-Turns\" data-toc-modified-id=\"Challenge-2:-Equipment-Cycle-Turns-3\">Challenge 2: Equipment Cycle Turns</a></span><ul class=\"toc-item\"><li><span><a href=\"#Task:-Answer-the-following-questions-about-actual-train-operation:\" data-toc-modified-id=\"Task:-Answer-the-following-questions-about-actual-train-operation:-3.1\">Task: Answer the following questions about actual train operation:</a></span><ul class=\"toc-item\"><li><span><a href=\"#Answer:\" data-toc-modified-id=\"Answer:-3.1.1\">Answer:</a></span></li><li><span><a href=\"#Methodology:\" data-toc-modified-id=\"Methodology:-3.1.2\">Methodology:</a></span></li></ul></li></ul></li><li><span><a href=\"#Challenge-3:-HASTUS-RTC-Integration\" data-toc-modified-id=\"Challenge-3:-HASTUS-RTC-Integration-4\">Challenge 3: HASTUS-RTC Integration</a></span><ul class=\"toc-item\"><li><span><a href=\"#Task:--Develop-a-script-to-parse-the-HASTUS-export-file-and-convert-the-data-into-an-RTC-.TRAIN-file-format.\" data-toc-modified-id=\"Task:--Develop-a-script-to-parse-the-HASTUS-export-file-and-convert-the-data-into-an-RTC-.TRAIN-file-format.-4.1\">Task:  Develop a script to parse the HASTUS export file and convert the data into an RTC .TRAIN file format.</a></span><ul class=\"toc-item\"><li><span><a href=\"#Initial-Thoughts-to-Understand-HASTUS-and-RTC-(using-the-provided-block:-(PO-813-824-823-PI))\" data-toc-modified-id=\"Initial-Thoughts-to-Understand-HASTUS-and-RTC-(using-the-provided-block:-(PO-813-824-823-PI))-4.1.1\">Initial Thoughts to Understand HASTUS and RTC (using the provided block: (PO-813-824-823-PI))</a></span></li><li><span><a href=\"#Methodology:\" data-toc-modified-id=\"Methodology:-4.1.2\">Methodology:</a></span></li></ul></li></ul></li><li><span><a href=\"#Bonus\" data-toc-modified-id=\"Bonus-5\">Bonus</a></span><ul class=\"toc-item\"><li><span><a href=\"#Task:--Validate-an-equipment-cycle-from-the-HASTUS-dataset-against-the-database-of-actual-train-movement-data-at-South-Station\" data-toc-modified-id=\"Task:--Validate-an-equipment-cycle-from-the-HASTUS-dataset-against-the-database-of-actual-train-movement-data-at-South-Station-5.1\">Task:  Validate an equipment cycle from the HASTUS dataset against the database of actual train movement data at South Station</a></span><ul class=\"toc-item\"><li><span><a href=\"#Methodology:\" data-toc-modified-id=\"Methodology:-5.1.1\">Methodology:</a></span></li></ul></li></ul></li></ul></div>"
   ]
  },
  {
   "cell_type": "markdown",
   "metadata": {
    "ExecuteTime": {
     "end_time": "2020-08-26T15:11:27.374008Z",
     "start_time": "2020-08-26T15:11:27.372068Z"
    }
   },
   "source": [
    "# Keolis Digital Solutions\n",
    "## Service Delivery Technology - Case Exercises\n",
    "### Kevin Sun"
   ]
  },
  {
   "cell_type": "markdown",
   "metadata": {},
   "source": [
    "## Imports"
   ]
  },
  {
   "cell_type": "code",
   "execution_count": 63,
   "metadata": {
    "ExecuteTime": {
     "end_time": "2020-08-26T17:44:55.533701Z",
     "start_time": "2020-08-26T17:44:55.531193Z"
    }
   },
   "outputs": [],
   "source": [
    "import pandas as pd\n",
    "import os\n",
    "import sqlite3"
   ]
  },
  {
   "cell_type": "markdown",
   "metadata": {
    "ExecuteTime": {
     "end_time": "2020-08-26T15:12:16.843495Z",
     "start_time": "2020-08-26T15:12:16.841337Z"
    }
   },
   "source": [
    "# Challenge 1: Trackwork Schedules\n",
    "## Task: Rule that defines all of the days in which Train 608 will/won’t be operating\n",
    "\n",
    "---\n",
    "\n",
    "### Answer: weekdays from mid-August to December except Labor and Thanksgiving Day (10 words)\n",
    "### Methodology: \n",
    "First, loaded in all the static and realtime GTFS files. After understanding the documentation and all the fields in each static dataset, as well as exploring each dataset (after loading them in using Pandas), I determined that `trips.txt` could contain Train 608, and be a starting point to find other information. I searched trips.txt for 608, joined with/queried `calendar.txt` and `calendar_dates.txt` on `service_id` key. This information alone was able to find the date range of operations, which days, and holiday exceptions, which took up 10 words to describe already. I did not look much into the realtime files, but I assume schedule information is mostly static.\n",
    "\n",
    "---\n",
    "\n",
    "Detailed work and code shown below."
   ]
  },
  {
   "cell_type": "code",
   "execution_count": 61,
   "metadata": {
    "ExecuteTime": {
     "end_time": "2020-08-26T15:24:16.594994Z",
     "start_time": "2020-08-26T15:24:14.076258Z"
    }
   },
   "outputs": [
    {
     "name": "stderr",
     "output_type": "stream",
     "text": [
      "/Users/ksun/Downloads/venv/lib/python3.7/site-packages/IPython/core/interactiveshell.py:3249: DtypeWarning: Columns (0,3,5) have mixed types.Specify dtype option on import or set low_memory=False.\n",
      "  if (await self.run_code(code, result,  async_=asy)):\n"
     ]
    }
   ],
   "source": [
    "# Note: separated provided data into static and realtime folders.\n",
    "\n",
    "static = os.listdir(\"data/MBTA_GTFS/static\")\n",
    "\n",
    "for i in static:\n",
    "    try:\n",
    "        exec(i.replace(\".txt\", \"\") +\n",
    "             \"_df = pd.read_csv('data/MBTA_GTFS/static/\" + i + \"', sep=',', header=0)\")\n",
    "    except:\n",
    "        print(\"unable to read csv:\", i)"
   ]
  },
  {
   "cell_type": "code",
   "execution_count": 55,
   "metadata": {
    "ExecuteTime": {
     "end_time": "2020-08-26T15:20:51.906940Z",
     "start_time": "2020-08-26T15:20:51.872700Z"
    }
   },
   "outputs": [
    {
     "data": {
      "text/html": [
       "<div>\n",
       "<style scoped>\n",
       "    .dataframe tbody tr th:only-of-type {\n",
       "        vertical-align: middle;\n",
       "    }\n",
       "\n",
       "    .dataframe tbody tr th {\n",
       "        vertical-align: top;\n",
       "    }\n",
       "\n",
       "    .dataframe thead th {\n",
       "        text-align: right;\n",
       "    }\n",
       "</style>\n",
       "<table border=\"1\" class=\"dataframe\">\n",
       "  <thead>\n",
       "    <tr style=\"text-align: right;\">\n",
       "      <th></th>\n",
       "      <th>route_id</th>\n",
       "      <th>service_id</th>\n",
       "      <th>trip_id</th>\n",
       "      <th>trip_headsign</th>\n",
       "      <th>trip_short_name</th>\n",
       "      <th>direction_id</th>\n",
       "      <th>block_id</th>\n",
       "      <th>shape_id</th>\n",
       "      <th>wheelchair_accessible</th>\n",
       "      <th>trip_route_type</th>\n",
       "      <th>route_pattern_id</th>\n",
       "      <th>bikes_allowed</th>\n",
       "    </tr>\n",
       "  </thead>\n",
       "  <tbody>\n",
       "    <tr>\n",
       "      <th>0</th>\n",
       "      <td>1</td>\n",
       "      <td>BUS320-hbc30017-Su-02</td>\n",
       "      <td>44921723</td>\n",
       "      <td>Harvard</td>\n",
       "      <td>NaN</td>\n",
       "      <td>0</td>\n",
       "      <td>C01-1</td>\n",
       "      <td>010070</td>\n",
       "      <td>1</td>\n",
       "      <td>NaN</td>\n",
       "      <td>1-_-0</td>\n",
       "      <td>1</td>\n",
       "    </tr>\n",
       "    <tr>\n",
       "      <th>1</th>\n",
       "      <td>1</td>\n",
       "      <td>BUS320-hbc30017-Su-02</td>\n",
       "      <td>44921725</td>\n",
       "      <td>Harvard</td>\n",
       "      <td>NaN</td>\n",
       "      <td>0</td>\n",
       "      <td>C01-1</td>\n",
       "      <td>010070</td>\n",
       "      <td>1</td>\n",
       "      <td>NaN</td>\n",
       "      <td>1-_-0</td>\n",
       "      <td>1</td>\n",
       "    </tr>\n",
       "    <tr>\n",
       "      <th>2</th>\n",
       "      <td>1</td>\n",
       "      <td>BUS320-hbc30017-Su-02</td>\n",
       "      <td>44921727</td>\n",
       "      <td>Harvard</td>\n",
       "      <td>NaN</td>\n",
       "      <td>0</td>\n",
       "      <td>C01-1</td>\n",
       "      <td>010070</td>\n",
       "      <td>1</td>\n",
       "      <td>NaN</td>\n",
       "      <td>1-_-0</td>\n",
       "      <td>1</td>\n",
       "    </tr>\n",
       "    <tr>\n",
       "      <th>3</th>\n",
       "      <td>1</td>\n",
       "      <td>BUS320-hbc30017-Su-02</td>\n",
       "      <td>44921729</td>\n",
       "      <td>Harvard</td>\n",
       "      <td>NaN</td>\n",
       "      <td>0</td>\n",
       "      <td>C01-3</td>\n",
       "      <td>010070</td>\n",
       "      <td>1</td>\n",
       "      <td>NaN</td>\n",
       "      <td>1-_-0</td>\n",
       "      <td>1</td>\n",
       "    </tr>\n",
       "    <tr>\n",
       "      <th>4</th>\n",
       "      <td>1</td>\n",
       "      <td>BUS320-hbc30017-Su-02</td>\n",
       "      <td>44921730</td>\n",
       "      <td>Harvard</td>\n",
       "      <td>NaN</td>\n",
       "      <td>0</td>\n",
       "      <td>C01-5</td>\n",
       "      <td>010070</td>\n",
       "      <td>1</td>\n",
       "      <td>NaN</td>\n",
       "      <td>1-_-0</td>\n",
       "      <td>1</td>\n",
       "    </tr>\n",
       "  </tbody>\n",
       "</table>\n",
       "</div>"
      ],
      "text/plain": [
       "  route_id             service_id   trip_id trip_headsign  trip_short_name  \\\n",
       "0        1  BUS320-hbc30017-Su-02  44921723       Harvard              NaN   \n",
       "1        1  BUS320-hbc30017-Su-02  44921725       Harvard              NaN   \n",
       "2        1  BUS320-hbc30017-Su-02  44921727       Harvard              NaN   \n",
       "3        1  BUS320-hbc30017-Su-02  44921729       Harvard              NaN   \n",
       "4        1  BUS320-hbc30017-Su-02  44921730       Harvard              NaN   \n",
       "\n",
       "   direction_id block_id shape_id  wheelchair_accessible  trip_route_type  \\\n",
       "0             0    C01-1   010070                      1              NaN   \n",
       "1             0    C01-1   010070                      1              NaN   \n",
       "2             0    C01-1   010070                      1              NaN   \n",
       "3             0    C01-3   010070                      1              NaN   \n",
       "4             0    C01-5   010070                      1              NaN   \n",
       "\n",
       "  route_pattern_id  bikes_allowed  \n",
       "0            1-_-0              1  \n",
       "1            1-_-0              1  \n",
       "2            1-_-0              1  \n",
       "3            1-_-0              1  \n",
       "4            1-_-0              1  "
      ]
     },
     "execution_count": 55,
     "metadata": {},
     "output_type": "execute_result"
    }
   ],
   "source": [
    "trips_df.head()"
   ]
  },
  {
   "cell_type": "markdown",
   "metadata": {},
   "source": [
    "Seems that `trips_df` might contain information regarding the Train 608. Let's investigate further. `service_id` identifies a set of dates when service is available for one or more routes (ID referencing `calendar` for exceptions. `trip_short_name` is public facing text used to identify the trips to riders, e.g. train number for commuter rail trips."
   ]
  },
  {
   "cell_type": "code",
   "execution_count": 56,
   "metadata": {
    "ExecuteTime": {
     "end_time": "2020-08-26T15:20:55.292700Z",
     "start_time": "2020-08-26T15:20:55.221191Z"
    }
   },
   "outputs": [
    {
     "data": {
      "text/html": [
       "<div>\n",
       "<style scoped>\n",
       "    .dataframe tbody tr th:only-of-type {\n",
       "        vertical-align: middle;\n",
       "    }\n",
       "\n",
       "    .dataframe tbody tr th {\n",
       "        vertical-align: top;\n",
       "    }\n",
       "\n",
       "    .dataframe thead th {\n",
       "        text-align: right;\n",
       "    }\n",
       "</style>\n",
       "<table border=\"1\" class=\"dataframe\">\n",
       "  <thead>\n",
       "    <tr style=\"text-align: right;\">\n",
       "      <th></th>\n",
       "      <th>route_id</th>\n",
       "      <th>service_id</th>\n",
       "      <th>trip_id</th>\n",
       "      <th>trip_headsign</th>\n",
       "      <th>trip_short_name</th>\n",
       "      <th>direction_id</th>\n",
       "      <th>block_id</th>\n",
       "      <th>shape_id</th>\n",
       "      <th>wheelchair_accessible</th>\n",
       "      <th>trip_route_type</th>\n",
       "      <th>route_pattern_id</th>\n",
       "      <th>bikes_allowed</th>\n",
       "    </tr>\n",
       "  </thead>\n",
       "  <tbody>\n",
       "  </tbody>\n",
       "</table>\n",
       "</div>"
      ],
      "text/plain": [
       "Empty DataFrame\n",
       "Columns: [route_id, service_id, trip_id, trip_headsign, trip_short_name, direction_id, block_id, shape_id, wheelchair_accessible, trip_route_type, route_pattern_id, bikes_allowed]\n",
       "Index: []"
      ]
     },
     "execution_count": 56,
     "metadata": {},
     "output_type": "execute_result"
    }
   ],
   "source": [
    "trips_df[trips_df['service_id'].str.contains('608')]"
   ]
  },
  {
   "cell_type": "code",
   "execution_count": 57,
   "metadata": {
    "ExecuteTime": {
     "end_time": "2020-08-26T15:20:56.536162Z",
     "start_time": "2020-08-26T15:20:56.521888Z"
    }
   },
   "outputs": [
    {
     "data": {
      "text/html": [
       "<div>\n",
       "<style scoped>\n",
       "    .dataframe tbody tr th:only-of-type {\n",
       "        vertical-align: middle;\n",
       "    }\n",
       "\n",
       "    .dataframe tbody tr th {\n",
       "        vertical-align: top;\n",
       "    }\n",
       "\n",
       "    .dataframe thead th {\n",
       "        text-align: right;\n",
       "    }\n",
       "</style>\n",
       "<table border=\"1\" class=\"dataframe\">\n",
       "  <thead>\n",
       "    <tr style=\"text-align: right;\">\n",
       "      <th></th>\n",
       "      <th>route_id</th>\n",
       "      <th>service_id</th>\n",
       "      <th>trip_id</th>\n",
       "      <th>trip_headsign</th>\n",
       "      <th>trip_short_name</th>\n",
       "      <th>direction_id</th>\n",
       "      <th>block_id</th>\n",
       "      <th>shape_id</th>\n",
       "      <th>wheelchair_accessible</th>\n",
       "      <th>trip_route_type</th>\n",
       "      <th>route_pattern_id</th>\n",
       "      <th>bikes_allowed</th>\n",
       "    </tr>\n",
       "  </thead>\n",
       "  <tbody>\n",
       "    <tr>\n",
       "      <th>88821</th>\n",
       "      <td>CR-Needham</td>\n",
       "      <td>CR-Wdy-Needham-Smr-20</td>\n",
       "      <td>CR-Weekday-Summer-20-608</td>\n",
       "      <td>South Station</td>\n",
       "      <td>608.0</td>\n",
       "      <td>1</td>\n",
       "      <td>NaN</td>\n",
       "      <td>9860001</td>\n",
       "      <td>1</td>\n",
       "      <td>NaN</td>\n",
       "      <td>CR-Needham-8ccb3032-1</td>\n",
       "      <td>1</td>\n",
       "    </tr>\n",
       "  </tbody>\n",
       "</table>\n",
       "</div>"
      ],
      "text/plain": [
       "         route_id             service_id                   trip_id  \\\n",
       "88821  CR-Needham  CR-Wdy-Needham-Smr-20  CR-Weekday-Summer-20-608   \n",
       "\n",
       "       trip_headsign  trip_short_name  direction_id block_id shape_id  \\\n",
       "88821  South Station            608.0             1      NaN  9860001   \n",
       "\n",
       "       wheelchair_accessible  trip_route_type       route_pattern_id  \\\n",
       "88821                      1              NaN  CR-Needham-8ccb3032-1   \n",
       "\n",
       "       bikes_allowed  \n",
       "88821              1  "
      ]
     },
     "execution_count": 57,
     "metadata": {},
     "output_type": "execute_result"
    }
   ],
   "source": [
    "trips_df[trips_df['trip_short_name'] == 608]"
   ]
  },
  {
   "cell_type": "code",
   "execution_count": 60,
   "metadata": {
    "ExecuteTime": {
     "end_time": "2020-08-26T15:23:05.361857Z",
     "start_time": "2020-08-26T15:23:05.351500Z"
    }
   },
   "outputs": [
    {
     "data": {
      "text/html": [
       "<div>\n",
       "<style scoped>\n",
       "    .dataframe tbody tr th:only-of-type {\n",
       "        vertical-align: middle;\n",
       "    }\n",
       "\n",
       "    .dataframe tbody tr th {\n",
       "        vertical-align: top;\n",
       "    }\n",
       "\n",
       "    .dataframe thead th {\n",
       "        text-align: right;\n",
       "    }\n",
       "</style>\n",
       "<table border=\"1\" class=\"dataframe\">\n",
       "  <thead>\n",
       "    <tr style=\"text-align: right;\">\n",
       "      <th></th>\n",
       "      <th>service_id</th>\n",
       "      <th>monday</th>\n",
       "      <th>tuesday</th>\n",
       "      <th>wednesday</th>\n",
       "      <th>thursday</th>\n",
       "      <th>friday</th>\n",
       "      <th>saturday</th>\n",
       "      <th>sunday</th>\n",
       "      <th>start_date</th>\n",
       "      <th>end_date</th>\n",
       "    </tr>\n",
       "  </thead>\n",
       "  <tbody>\n",
       "    <tr>\n",
       "      <th>60</th>\n",
       "      <td>CR-Wdy-Needham-Smr-20</td>\n",
       "      <td>1</td>\n",
       "      <td>1</td>\n",
       "      <td>1</td>\n",
       "      <td>1</td>\n",
       "      <td>1</td>\n",
       "      <td>0</td>\n",
       "      <td>0</td>\n",
       "      <td>20200813</td>\n",
       "      <td>20201218</td>\n",
       "    </tr>\n",
       "  </tbody>\n",
       "</table>\n",
       "</div>"
      ],
      "text/plain": [
       "               service_id  monday  tuesday  wednesday  thursday  friday  \\\n",
       "60  CR-Wdy-Needham-Smr-20       1        1          1         1       1   \n",
       "\n",
       "    saturday  sunday  start_date  end_date  \n",
       "60         0       0    20200813  20201218  "
      ]
     },
     "execution_count": 60,
     "metadata": {},
     "output_type": "execute_result"
    }
   ],
   "source": [
    "calendar_df[calendar_df['service_id'] == 'CR-Wdy-Needham-Smr-20']"
   ]
  },
  {
   "cell_type": "code",
   "execution_count": 62,
   "metadata": {
    "ExecuteTime": {
     "end_time": "2020-08-26T15:27:30.357609Z",
     "start_time": "2020-08-26T15:27:30.348984Z"
    }
   },
   "outputs": [
    {
     "data": {
      "text/html": [
       "<div>\n",
       "<style scoped>\n",
       "    .dataframe tbody tr th:only-of-type {\n",
       "        vertical-align: middle;\n",
       "    }\n",
       "\n",
       "    .dataframe tbody tr th {\n",
       "        vertical-align: top;\n",
       "    }\n",
       "\n",
       "    .dataframe thead th {\n",
       "        text-align: right;\n",
       "    }\n",
       "</style>\n",
       "<table border=\"1\" class=\"dataframe\">\n",
       "  <thead>\n",
       "    <tr style=\"text-align: right;\">\n",
       "      <th></th>\n",
       "      <th>service_id</th>\n",
       "      <th>date</th>\n",
       "      <th>exception_type</th>\n",
       "      <th>holiday_name</th>\n",
       "    </tr>\n",
       "  </thead>\n",
       "  <tbody>\n",
       "    <tr>\n",
       "      <th>30</th>\n",
       "      <td>CR-Wdy-Needham-Smr-20</td>\n",
       "      <td>20200907</td>\n",
       "      <td>2</td>\n",
       "      <td>Labor Day</td>\n",
       "    </tr>\n",
       "    <tr>\n",
       "      <th>99</th>\n",
       "      <td>CR-Wdy-Needham-Smr-20</td>\n",
       "      <td>20201126</td>\n",
       "      <td>2</td>\n",
       "      <td>Thanksgiving Day</td>\n",
       "    </tr>\n",
       "  </tbody>\n",
       "</table>\n",
       "</div>"
      ],
      "text/plain": [
       "               service_id      date  exception_type      holiday_name\n",
       "30  CR-Wdy-Needham-Smr-20  20200907               2         Labor Day\n",
       "99  CR-Wdy-Needham-Smr-20  20201126               2  Thanksgiving Day"
      ]
     },
     "execution_count": 62,
     "metadata": {},
     "output_type": "execute_result"
    }
   ],
   "source": [
    "calendar_dates_df[calendar_dates_df['service_id'] == 'CR-Wdy-Needham-Smr-20']"
   ]
  },
  {
   "cell_type": "markdown",
   "metadata": {},
   "source": [
    "# Challenge 2: Equipment Cycle Turns\n",
    "## Task: Answer the following questions about actual train operation:\n",
    "1. From what track did Train 079 most frequently depart? (Hint: Circuit TWR-D3TK = Track 3 at South Station.)\n",
    "2. Based upon the actual operation, what is the prior trip in the equipment cycle preceding Train 079? (Hint: Find the track Train 079 used and find the train number on that track immediately before Train 079.)\n",
    "\n",
    "---\n",
    "\n",
    "### Answer: \n",
    "1. Track 12\n",
    "2. Train 016, operated by MBTA, going EAST\n",
    "\n",
    "### Methodology: \n",
    "1. First, inspected records containing Train 079 in the `trip_data` table. After inspecting the unique values in `terminal_occupancy` to figure out what type of JOIN is suitable (turns out for the Train 079 records it was 1-to-1), joined on `trip_id` and outputted counts of `circuit` to see the most frequent track. Since Train 079 was 1-1 I did not need to worry about duplicate trip_id with different timestamps or circuits, or trips with missing records in `terminal_occupancy`.\n",
    "2. There are 3 days I need to check for Train 079, which uses Track 13 on 2020-02-03 and Track 12 on 2020-02-04 and 2020-02-05. Sorting my joined table by `timestamp` and filtering to inspect the 3 track/date combination, quick inspection of the resulting tables point towards Train 016 going EAST for all three days. \n",
    "3. If the dataset was large enough, I implemented a more direct query that inserts an ID column into my temporary tables sorted by date, so that then I can select the exact rows before Train 079.\n",
    "\n",
    "---\n",
    "\n",
    "Detailed work and code shown below. **Note: I also used the provided SQLite Explorer to better visalize the SQL outputs since fetchall() is not visually appealing like Pandas.**"
   ]
  },
  {
   "cell_type": "code",
   "execution_count": 103,
   "metadata": {
    "ExecuteTime": {
     "end_time": "2020-08-27T04:00:02.261972Z",
     "start_time": "2020-08-27T04:00:02.258353Z"
    }
   },
   "outputs": [
    {
     "name": "stdout",
     "output_type": "stream",
     "text": [
      "[(99, 'T079', 'MBTA', '2020-02-03', 'WEST'), (957, 'T079', 'MBTA', '2020-02-04', 'WEST'), (1775, 'T079', 'MBTA', '2020-02-05', 'WEST')]\n"
     ]
    }
   ],
   "source": [
    "# Create a SQL connection to SQLite database\n",
    "con = sqlite3.connect(\"data/Sample CETC Data.sqlite\")\n",
    "cur = con.cursor()\n",
    "\n",
    "# SQL query\n",
    "cur.execute('SELECT * FROM trip_data WHERE train_no=\"T079\"')\n",
    "print(cur.fetchall())"
   ]
  },
  {
   "cell_type": "code",
   "execution_count": 72,
   "metadata": {
    "ExecuteTime": {
     "end_time": "2020-08-26T18:00:59.402879Z",
     "start_time": "2020-08-26T18:00:59.400048Z"
    }
   },
   "outputs": [
    {
     "name": "stdout",
     "output_type": "stream",
     "text": [
      "[(690, 744)]\n"
     ]
    }
   ],
   "source": [
    "cur.execute(\n",
    "    'SELECT COUNT(DISTINCT trip_id), COUNT(trip_id) FROM terminal_occupancy')\n",
    "print(cur.fetchall())"
   ]
  },
  {
   "cell_type": "code",
   "execution_count": 82,
   "metadata": {
    "ExecuteTime": {
     "end_time": "2020-08-26T18:22:16.399617Z",
     "start_time": "2020-08-26T18:22:16.395986Z"
    }
   },
   "outputs": [
    {
     "name": "stdout",
     "output_type": "stream",
     "text": [
      "[(99, 'T079', 'MBTA', '2020-02-03', 'WEST', 99, '2020-02-03T14:18:54-05:00', 'TWR-D13TK'), (957, 'T079', 'MBTA', '2020-02-04', 'WEST', 957, '2020-02-04T14:09:53-05:00', 'TWR-D12TK'), (1775, 'T079', 'MBTA', '2020-02-05', 'WEST', 1775, '2020-02-05T14:09:35-05:00', 'TWR-D12TK')]\n"
     ]
    }
   ],
   "source": [
    "cur.execute(\n",
    "    'SELECT * FROM trip_data LEFT OUTER JOIN terminal_occupancy \\\n",
    "            ON trip_data.trip_id=terminal_occupancy.trip_id \\\n",
    "            WHERE train_no=\"T079\"')\n",
    "print(cur.fetchall())"
   ]
  },
  {
   "cell_type": "code",
   "execution_count": 91,
   "metadata": {
    "ExecuteTime": {
     "end_time": "2020-08-26T18:25:45.849675Z",
     "start_time": "2020-08-26T18:25:45.845915Z"
    }
   },
   "outputs": [
    {
     "name": "stdout",
     "output_type": "stream",
     "text": [
      "[('TWR-D12TK', 2), ('TWR-D13TK', 1)]\n"
     ]
    }
   ],
   "source": [
    "cur.execute('WITH joined AS \\\n",
    "            (SELECT * FROM trip_data LEFT OUTER JOIN terminal_occupancy \\\n",
    "            ON trip_data.trip_id=terminal_occupancy.trip_id \\\n",
    "            WHERE train_no=\"T079\") \\\n",
    "            SELECT * FROM joined \\\n",
    "            WHERE  \\\n",
    "            ')\n",
    "print(cur.fetchall())"
   ]
  },
  {
   "cell_type": "code",
   "execution_count": 107,
   "metadata": {
    "ExecuteTime": {
     "end_time": "2020-08-27T05:31:45.025432Z",
     "start_time": "2020-08-27T05:31:39.894427Z"
    }
   },
   "outputs": [
    {
     "ename": "OperationalError",
     "evalue": "database is locked",
     "output_type": "error",
     "traceback": [
      "\u001b[0;31m---------------------------------------------------------------------------\u001b[0m",
      "\u001b[0;31mOperationalError\u001b[0m                          Traceback (most recent call last)",
      "\u001b[0;32m<ipython-input-107-c6dfacf16ef2>\u001b[0m in \u001b[0;36m<module>\u001b[0;34m\u001b[0m\n\u001b[1;32m      1\u001b[0m \u001b[0;31m# Note: couldn't get these queries to work in python, but works in https://sqlitebrowser.org/\u001b[0m\u001b[0;34m\u001b[0m\u001b[0;34m\u001b[0m\u001b[0;34m\u001b[0m\u001b[0m\n\u001b[0;32m----> 2\u001b[0;31m \u001b[0mcur\u001b[0m\u001b[0;34m.\u001b[0m\u001b[0mexecute\u001b[0m\u001b[0;34m(\u001b[0m\u001b[0;34m'CREATE TABLE joined(id integer primary key autoincrement, train_no, timestamp, circuit)'\u001b[0m\u001b[0;34m)\u001b[0m\u001b[0;34m\u001b[0m\u001b[0;34m\u001b[0m\u001b[0m\n\u001b[0m\u001b[1;32m      3\u001b[0m cur.execute('INSERT INTO joined(train_no, timestamp, circuit) SELECT train_no, timestamp, circuit FROM \\\n\u001b[1;32m      4\u001b[0m             (SELECT * FROM trip_data LEFT OUTER JOIN terminal_occupancy \\\n\u001b[1;32m      5\u001b[0m             \u001b[0mON\u001b[0m \u001b[0mtrip_data\u001b[0m\u001b[0;34m.\u001b[0m\u001b[0mtrip_id\u001b[0m\u001b[0;34m=\u001b[0m\u001b[0mterminal_occupancy\u001b[0m\u001b[0;34m.\u001b[0m\u001b[0mtrip_id\u001b[0m\u001b[0;31m \u001b[0m\u001b[0;31m\\\u001b[0m\u001b[0;34m\u001b[0m\u001b[0;34m\u001b[0m\u001b[0m\n",
      "\u001b[0;31mOperationalError\u001b[0m: database is locked"
     ]
    }
   ],
   "source": [
    "# Note: couldn't get these queries to work in python, but works in https://sqlitebrowser.org/\n",
    "cur.execute('CREATE TABLE joined(id integer primary key autoincrement, train_no, timestamp, circuit)')\n",
    "cur.execute('INSERT INTO joined(train_no, timestamp, circuit) SELECT train_no, timestamp, circuit FROM \\\n",
    "            (SELECT * FROM trip_data LEFT OUTER JOIN terminal_occupancy \\\n",
    "            ON trip_data.trip_id=terminal_occupancy.trip_id \\\n",
    "            ORDER BY terminal_occupancy.timestamp) \\\n",
    "            ')\n",
    "cur.commit()\n",
    "cur.execute('SELECT id, train_no, timestamp, circuit FROM joined WHERE id IN ( \\\n",
    "             SELECT id+1 FROM joined WHERE train_no=\"T079\") \\\n",
    "            ')\n",
    "print(cur.fetchall())"
   ]
  },
  {
   "cell_type": "code",
   "execution_count": 108,
   "metadata": {
    "ExecuteTime": {
     "end_time": "2020-08-27T05:34:54.148491Z",
     "start_time": "2020-08-27T05:34:54.143576Z"
    }
   },
   "outputs": [
    {
     "data": {
      "text/html": [
       "<img src=\"https://i.imgur.com/rvfONo7.png\"/>"
      ],
      "text/plain": [
       "<IPython.core.display.Image object>"
      ]
     },
     "execution_count": 108,
     "metadata": {},
     "output_type": "execute_result"
    }
   ],
   "source": [
    "from IPython.display import Image\n",
    "from IPython.core.display import HTML \n",
    "Image(url= \"https://i.imgur.com/rvfONo7.png\")"
   ]
  },
  {
   "cell_type": "code",
   "execution_count": 102,
   "metadata": {
    "ExecuteTime": {
     "end_time": "2020-08-27T04:00:00.404455Z",
     "start_time": "2020-08-27T04:00:00.402383Z"
    }
   },
   "outputs": [],
   "source": [
    "# Close connection\n",
    "con.close()"
   ]
  },
  {
   "cell_type": "markdown",
   "metadata": {},
   "source": [
    "# Challenge 3: HASTUS-RTC Integration\n",
    "## Task:  Develop a script to parse the HASTUS export file and convert the data into an RTC .TRAIN file format.\n",
    "\n",
    "---\n",
    "\n",
    "### Initial Thoughts to Understand HASTUS and RTC (using the provided block: (PO-813-824-823-PI))\n",
    "1. First, in trying to understand the HASTUS XML, I noticed that `06/02/2020.PLC.xml` is just a reference file that provides the full name, coordinates, etc. for a stop location/identifier (e.g. SS is South Station).\n",
    "2. The `RTE.xml` file provides more details, e.g. service type regular, service mode train, for each route identifier (e.g. DB, FB, GRB).\n",
    "3. `PAT.xml` provides `TripPattern` info for a route/identifier, with information including direction and many `TripPatternPoints`.\n",
    "4. `TRP.xml` contains trips. In the RTC file, for train symbol 813 and trip number 813, with route NEC and pattern identifier 5, the corresponding `TripPatternPoints` from PAT.xml are SS, TWR1, COV, BB, RUGG, PLAINS, FORH, FORST, HYDP, RDINT, RDVL, TSFR, RT128, ..., PROV. From TRP.xml, we can match up to nostopping: false, true, true, false, false, etc. This corresponds to the Route Node in the RTC! Similarly, scheduled arrival/departure seems to match up with PassingTime in TRP.xml.\n",
    "5. There's a lot more columns and metadata in the RTC file, probably without system specs. **My below proposed methodology will help fill out certain columns of tables for each leg of the block, but not the metadata above each table.** By metadata, I mean the information such as Caboose, Suppress messages, etc. above the RTC tables.\n",
    "6. `CAL.xml`, `CRW.xml`, `NDE.xml`, `NET.xml`, and `VDC.xml` are empty/don't contain info. \n",
    "\n",
    "### Methodology: \n",
    "1. Parse the many XML into many tables/Pandas dataframes. E.g. using a XML Python library, I would populate a `TRP` dataframe where rows are each trip, and columns are the attributes such as InternalNumber, Number, and list/array of TripStops (either make a new data structure for this or just represent a TripStop as a long string that is easily parsable.\n",
    "2. Clean dataframes (e.g. text/string cleaning to remove spaces in column names and values)\n",
    "3. To populate the first section of the RTC file, which is likely to be the pull-out (PO) location, search the `BLK` table for the block row with the correct Number, e.g. 813. StartPlace (figure out the english description by merging with `PLC` or querying `PLC`), StartTime, ProductiveStartPlace, and ProductiveStartTime are used for the first table of the RTC file (Route node and scheduled arrival/departure columns). Similarly, the last section of the RTC file for the pull-in (PI) location and time can be filled out. I was not able to find information in the HASTUS matching the other columns of the table, e.g. trailing patrons, departing coaches, etc.\n",
    "4. Save the InternalNumber array from the `BLK` record found in 3 for the many Trips within the block. Some of the first and last trip metadata in the RTC output file can be found by querying the `TRP` table (using the InternalNumber index) for the Number and type (e.g. Pull-out). The PassingTimes for the TripStops can be used with the time stamps from `BLK` table (StartTime, ProductiveStartTime) to possibly determine dwell time (not sure if this is correct, but sometimes the times match up, sometimes they don't).\n",
    "5. For each middle trip within the block from the InternalNumber array, data in the output RTC tables can be filled out similarly, except instead of the pull-in/pull-out pattern, using details/pattern identified in Initial Thoughts #4.\n",
    "\n",
    "---\n",
    "\n",
    "Code script is work in progress due to missing data."
   ]
  },
  {
   "cell_type": "markdown",
   "metadata": {},
   "source": [
    "# Bonus\n",
    "## Task:  Validate an equipment cycle from the HASTUS dataset against the database of actual train movement data at South Station\n",
    "\n",
    "---\n",
    "\n",
    "### Methodology: \n",
    "0. Not sure how to actually do this validation for specifically South Station with the given data, because HASTUS has year 2000 timestamps, e.g. 2000-01-02T00:27:00.0, while SQLite has 2020 timestamps. However, I will outline my approach in theory.\n",
    "1. Define metrics. I will consider trains on its cycle to be \"following\" their scheduled equipment plan if the timestamps in `terminal_occupancy` reported from the SQLite data are e.g. within 5 seconds of scheduled time from the HASTUS. \n",
    "2. This is a binary result, and the answer to how often trains follow their schedules can be determined by the number of trips to South Station within 5 seconds of scheduled time divided by the total number of trips to South Station.\n",
    "3. To calculate this percentage above, I will need to successfully join trips from SQLite as trains are reported in South Station to the trips from HASTUS. Timestamps, although should be similar, are not exact and cannot be used as joining keys (maybe year, month, day, and hour might be used, but not more granular). One way to do this might be to convert the HASTUS to RTC using Challenge 3's script, extract the data tables (excluding metadata), filter for Route Nodes of \"SouthStation\", then join filtered RTC with SQLite left on Train symbol, right on `train_no` (assuming the numbering convention is same in both formats).\n",
    "4. A South Station Route Node for a specific train number with scheduled arrival/departure time `x` still might have many matching entires in SQLite, so then we will utilize the year, month, day, and hour of `x` to select the closest row in SQLite.\n",
    "\n",
    "---\n",
    "\n",
    "Code script is work in progress."
   ]
  }
 ],
 "metadata": {
  "hide_input": false,
  "kernelspec": {
   "display_name": "venv",
   "language": "python",
   "name": "venv"
  },
  "language_info": {
   "codemirror_mode": {
    "name": "ipython",
    "version": 3
   },
   "file_extension": ".py",
   "mimetype": "text/x-python",
   "name": "python",
   "nbconvert_exporter": "python",
   "pygments_lexer": "ipython3",
   "version": "3.7.4"
  },
  "toc": {
   "base_numbering": 1,
   "nav_menu": {},
   "number_sections": false,
   "sideBar": true,
   "skip_h1_title": false,
   "title_cell": "Table of Contents",
   "title_sidebar": "Contents",
   "toc_cell": true,
   "toc_position": {},
   "toc_section_display": true,
   "toc_window_display": true
  },
  "varInspector": {
   "cols": {
    "lenName": 16,
    "lenType": 16,
    "lenVar": 40
   },
   "kernels_config": {
    "python": {
     "delete_cmd_postfix": "",
     "delete_cmd_prefix": "del ",
     "library": "var_list.py",
     "varRefreshCmd": "print(var_dic_list())"
    },
    "r": {
     "delete_cmd_postfix": ") ",
     "delete_cmd_prefix": "rm(",
     "library": "var_list.r",
     "varRefreshCmd": "cat(var_dic_list()) "
    }
   },
   "types_to_exclude": [
    "module",
    "function",
    "builtin_function_or_method",
    "instance",
    "_Feature"
   ],
   "window_display": false
  }
 },
 "nbformat": 4,
 "nbformat_minor": 2
}
